{
  "nbformat": 4,
  "nbformat_minor": 0,
  "metadata": {
    "colab": {
      "name": "ML-Minor Project-August-2020.ipynb",
      "provenance": [],
      "collapsed_sections": [],
      "mount_file_id": "1SwBYEByy4d1y8sKDaXnOalKrZYWlaOky",
      "authorship_tag": "ABX9TyOcthPpfrZL8fYY3gR0pDVA",
      "include_colab_link": true
    },
    "kernelspec": {
      "name": "python3",
      "display_name": "Python 3"
    }
  },
  "cells": [
    {
      "cell_type": "markdown",
      "metadata": {
        "id": "view-in-github",
        "colab_type": "text"
      },
      "source": [
        "<a href=\"https://colab.research.google.com/github/P-Snehesh/Mini-project-ML-2020/blob/master/ML_Minor_Project_August_2020.ipynb\" target=\"_parent\"><img src=\"https://colab.research.google.com/assets/colab-badge.svg\" alt=\"Open In Colab\"/></a>"
      ]
    },
    {
      "cell_type": "code",
      "metadata": {
        "id": "lv4OxcZTNeOR",
        "colab_type": "code",
        "colab": {
          "base_uri": "https://localhost:8080/",
          "height": 110
        },
        "outputId": "29d3cada-412c-4904-9a36-d83cb576d5b2"
      },
      "source": [
        "! pip install bing-image-downloader"
      ],
      "execution_count": null,
      "outputs": [
        {
          "output_type": "stream",
          "text": [
            "Collecting bing-image-downloader\n",
            "  Downloading https://files.pythonhosted.org/packages/0d/bf/537a61030b84ae4cd5022d5c7b014fd9bc3ce7c02358919153a6658a61d3/bing_image_downloader-1.0.4-py3-none-any.whl\n",
            "Installing collected packages: bing-image-downloader\n",
            "Successfully installed bing-image-downloader-1.0.4\n"
          ],
          "name": "stdout"
        }
      ]
    },
    {
      "cell_type": "code",
      "metadata": {
        "id": "1xU24kZTNn7T",
        "colab_type": "code",
        "colab": {
          "base_uri": "https://localhost:8080/",
          "height": 219
        },
        "outputId": "a00ff204-9d98-4634-febe-3d7b0839cbfd"
      },
      "source": [
        "! pip install plotly==4.5.2"
      ],
      "execution_count": null,
      "outputs": [
        {
          "output_type": "stream",
          "text": [
            "Collecting plotly==4.5.2\n",
            "\u001b[?25l  Downloading https://files.pythonhosted.org/packages/a9/12/7d795064f87d1070975e55daa443ff5e5ee7eb6c8a9eaf41f3d6a5f91a91/plotly-4.5.2-py2.py3-none-any.whl (7.1MB)\n",
            "\u001b[K     |████████████████████████████████| 7.1MB 2.4MB/s \n",
            "\u001b[?25hRequirement already satisfied: six in /usr/local/lib/python3.6/dist-packages (from plotly==4.5.2) (1.15.0)\n",
            "Requirement already satisfied: retrying>=1.3.3 in /usr/local/lib/python3.6/dist-packages (from plotly==4.5.2) (1.3.3)\n",
            "Installing collected packages: plotly\n",
            "  Found existing installation: plotly 4.4.1\n",
            "    Uninstalling plotly-4.4.1:\n",
            "      Successfully uninstalled plotly-4.4.1\n",
            "Successfully installed plotly-4.5.2\n"
          ],
          "name": "stdout"
        }
      ]
    },
    {
      "cell_type": "code",
      "metadata": {
        "id": "yZ7iwagZN0Sr",
        "colab_type": "code",
        "colab": {
          "base_uri": "https://localhost:8080/",
          "height": 35
        },
        "outputId": "be3ea673-8ea9-44fc-cb86-90c15e5c5e07"
      },
      "source": [
        "cd /content/drive/My Drive/Internship August 2020/Minor project "
      ],
      "execution_count": null,
      "outputs": [
        {
          "output_type": "stream",
          "text": [
            "/content/drive/My Drive/Internship August 2020/Minor project\n"
          ],
          "name": "stdout"
        }
      ]
    },
    {
      "cell_type": "code",
      "metadata": {
        "id": "Hf7cWK-rOFBI",
        "colab_type": "code",
        "colab": {}
      },
      "source": [
        "!mkdir pictures"
      ],
      "execution_count": null,
      "outputs": []
    },
    {
      "cell_type": "code",
      "metadata": {
        "id": "o25mExCFOICP",
        "colab_type": "code",
        "colab": {
          "base_uri": "https://localhost:8080/",
          "height": 35
        },
        "outputId": "ede92d8e-4fa3-47fe-8bc3-e262cf4eabb1"
      },
      "source": [
        "cd pictures"
      ],
      "execution_count": null,
      "outputs": [
        {
          "output_type": "stream",
          "text": [
            "/content/drive/My Drive/Internship August 2020/Minor project/pictures\n"
          ],
          "name": "stdout"
        }
      ]
    },
    {
      "cell_type": "code",
      "metadata": {
        "id": "us1O56YuOM_l",
        "colab_type": "code",
        "colab": {
          "base_uri": "https://localhost:8080/",
          "height": 1000
        },
        "outputId": "f5f1d209-3dcb-4d45-b75c-68d8a57c57fb"
      },
      "source": [
        "from bing_image_downloader import downloader\n",
        "downloader.download('Smart Phones',limit = 30,output_dir = 'pictures')"
      ],
      "execution_count": null,
      "outputs": [
        {
          "output_type": "stream",
          "text": [
            "\n",
            "\n",
            "[!!]Indexing page: 1\n",
            "\n",
            "[%] Indexed 30 Images on Page 1.\n",
            "\n",
            "===============================================\n",
            "\n",
            "[%] Downloading Image #1 from https://i.kinja-img.com/gawker-media/image/upload/s--k_6GAALb--/c_fill,fl_progressive,g_center,h_900,q_80,w_1600/evtwgjgb3xbmtirbyawn.jpg\n",
            "[%] File Downloaded !\n",
            "\n",
            "[%] Downloading Image #2 from https://i.ytimg.com/vi/FEr9D2glDXA/maxresdefault.jpg\n",
            "[%] File Downloaded !\n",
            "\n",
            "[%] Downloading Image #3 from https://d279m997dpfwgl.cloudfront.net/wp/2017/10/smartphone.jpg\n",
            "[%] File Downloaded !\n",
            "\n",
            "[%] Downloading Image #4 from https://storiesflistgv2.blob.core.windows.net/stories/2015/12/FlipTrends_smartphonesbanner2.jpg\n",
            "[%] File Downloaded !\n",
            "\n",
            "[%] Downloading Image #5 from https://media.wired.com/photos/5ac7e4c0096e5714e419edca/master/w_2400,c_limit/pixel2.jpg\n",
            "[%] File Downloaded !\n",
            "\n",
            "[%] Downloading Image #6 from https://smartphone2016.com/wp-content/uploads/2015/12/7-in-Our-List-of-Top-10-Smartphones-of-2015-iPhone-6S-Plus.jpg\n",
            "[%] File Downloaded !\n",
            "\n",
            "[%] Downloading Image #7 from https://img.gizchina.com/2017/10/smartphones.jpg\n",
            "[%] File Downloaded !\n",
            "\n",
            "[%] Downloading Image #8 from https://i.ytimg.com/vi/x0EZv0LhNIk/maxresdefault.jpg\n",
            "[%] File Downloaded !\n",
            "\n",
            "[%] Downloading Image #9 from https://cdn.pocket-lint.com/r/s/1200x630/assets/images/120309-phones-buyer-s-guide-best-smartphones-image1-cnxvifjlms.jpg\n",
            "[%] File Downloaded !\n",
            "\n",
            "[%] Downloading Image #10 from https://cdn.arstechnica.net/wp-content/uploads/2016/12/best-smartphone-hero-image-800x340.jpg\n",
            "[%] File Downloaded !\n",
            "\n",
            "[%] Downloading Image #11 from https://i.ytimg.com/vi/Sa5dQJOR7dI/maxresdefault.jpg\n",
            "[%] File Downloaded !\n",
            "\n",
            "[%] Downloading Image #12 from https://blogs.imf.org/wp-content/uploads/2018/02/BLOG-1024x600-Close-up-shot-of-iPhone-6-hand-held-by-woman-Koszalin-Poland-iStock518521481.jpg\n",
            "[%] File Downloaded !\n",
            "\n",
            "[%] Downloading Image #13 from https://3g.co.uk/userfiles/g_phones/large/best-cheap-smartphones-for-under-100-1.jpg\n",
            "[%] File Downloaded !\n",
            "\n",
            "[%] Downloading Image #14 from https://cdn.vox-cdn.com/thumbor/DGN2DHbcxcSLIQI7PrjE1vMGGLs=/0x0:2040x1360/1200x800/filters:focal(889x766:1215x1092)/cdn.vox-cdn.com/uploads/chorus_image/image/62774033/jbareham_180917_2948_0212_02.0.jpg\n",
            "[%] File Downloaded !\n",
            "\n",
            "[%] Downloading Image #15 from https://cdn.techpp.com/wp-content/uploads/2012/05/Samsung-Galaxy-Pop-i559.jpg\n",
            "[!] Issue getting: https://cdn.techpp.com/wp-content/uploads/2012/05/Samsung-Galaxy-Pop-i559.jpg\n",
            "[!] Error:: <urlopen error [SSL: CERTIFICATE_VERIFY_FAILED] certificate verify failed (_ssl.c:852)>\n",
            "[%] Downloading Image #15 from https://www.techarp.com/wp-content/uploads/2016/01/Wiko-Brand-Launch-02.jpg\n",
            "[%] File Downloaded !\n",
            "\n",
            "[%] Downloading Image #16 from http://www.wired.com/images_blogs/gadgetlab/2010/05/aava-mobile-smartphone-2.jpg\n",
            "[%] File Downloaded !\n",
            "\n",
            "[%] Downloading Image #17 from http://bpc.h-cdn.co/assets/17/16/1492525968-best-smartphones-2017.jpg\n",
            "[%] File Downloaded !\n",
            "\n",
            "[%] Downloading Image #18 from http://i.ebayimg.com/images/i/291002120549-0-1/s-l1000.jpg\n",
            "[%] File Downloaded !\n",
            "\n",
            "[%] Downloading Image #19 from https://spikereview.com/wp-content/uploads/2018/02/Cover-for-10-Best-Smartphone.png\n",
            "[%] File Downloaded !\n",
            "\n",
            "[%] Downloading Image #20 from http://s3.amazonaws.com/digitaltrends-uploads-prod/2017/06/DSC_0331-1.jpg\n",
            "[%] File Downloaded !\n",
            "\n",
            "[%] Downloading Image #21 from http://4.bp.blogspot.com/-oRgLgLtD3WY/UlXEcO6qdXI/AAAAAAAAG-8/W7PUWRctyaQ/s1600/iPhone4s.png\n",
            "[%] File Downloaded !\n",
            "\n",
            "[%] Downloading Image #22 from http://www.moneysense.ca/wp-content/uploads/2013/04/smartphones_322.jpg\n",
            "[%] File Downloaded !\n",
            "\n",
            "[%] Downloading Image #23 from https://www.lifewire.com/thmb/x1EXDb9FxYRvibiS4qopzyKWZ84=/2048x1365/filters:fill(auto,1)/37476309642_0fba473317_o-5a906c34119fa80037fee510.jpg\n",
            "[%] File Downloaded !\n",
            "\n",
            "[%] Downloading Image #24 from https://i.ytimg.com/vi/BSsmds6Q3SE/maxresdefault.jpg\n",
            "[%] File Downloaded !\n",
            "\n",
            "[%] Downloading Image #25 from http://plpnetwork.com/wp-content/uploads/2012/11/bigstock-Touchscreen-smartphone.jpg\n",
            "[%] File Downloaded !\n",
            "\n",
            "[%] Downloading Image #26 from https://techjaja.com/wp-content/uploads/2018/08/flagship-smartphones-2018.jpg\n",
            "[%] File Downloaded !\n",
            "\n",
            "[%] Downloading Image #27 from https://i2.wp.com/www.techjaja.com/wp-content/uploads/2018/08/flagship-smartphones-2018.jpg?fit=1280%2C720&amp;ssl=1\n",
            "[%] File Downloaded !\n",
            "\n",
            "[%] Downloading Image #28 from https://i.ebayimg.com/images/i/362063944970-0-1/s-l1000.jpg\n",
            "[%] File Downloaded !\n",
            "\n",
            "[%] Downloading Image #29 from http://2.bp.blogspot.com/-b7s1FAtInaw/VWiaRwK03EI/AAAAAAAAx7g/MawvetnATV4/s1600/smartphones-2015.png\n",
            "[%] File Downloaded !\n",
            "\n",
            "\n",
            "\n",
            "[!!]Indexing page: 2\n",
            "\n",
            "[%] Indexed 35 Images on Page 2.\n",
            "\n",
            "===============================================\n",
            "\n",
            "[%] Downloading Image #30 from https://i.kinja-img.com/gawker-media/image/upload/s--k_6GAALb--/c_fill,fl_progressive,g_center,h_900,q_80,w_1600/evtwgjgb3xbmtirbyawn.jpg\n",
            "[%] File Downloaded !\n",
            "\n",
            "\n",
            "\n",
            "[%] Done. Downloaded 30 images.\n",
            "\n",
            "===============================================\n",
            "\n"
          ],
          "name": "stdout"
        }
      ]
    },
    {
      "cell_type": "code",
      "metadata": {
        "id": "0tZlhRRTOYXq",
        "colab_type": "code",
        "colab": {
          "base_uri": "https://localhost:8080/",
          "height": 1000
        },
        "outputId": "ae7d078d-0df8-4ed9-fdb3-e10f14896891"
      },
      "source": [
        "from bing_image_downloader import downloader\n",
        "downloader.download('Ultrabook Laptops',limit = 30,output_dir = 'pictures')"
      ],
      "execution_count": null,
      "outputs": [
        {
          "output_type": "stream",
          "text": [
            "\n",
            "\n",
            "[!!]Indexing page: 1\n",
            "\n",
            "[%] Indexed 30 Images on Page 1.\n",
            "\n",
            "===============================================\n",
            "\n",
            "[%] Downloading Image #1 from https://i5.walmartimages.com/asr/1ec19e63-34db-4a45-95dd-67f2db05d25c_1.99f83adc0794403b823e933185b13599.jpeg\n",
            "[%] File Downloaded !\n",
            "\n",
            "[%] Downloading Image #2 from https://www.bhphotovideo.com/images/images2500x2500/ASUS_UX31E_DH52_UX31E_DH52_13_3_Notebook_Computer_821614.jpg\n",
            "[%] File Downloaded !\n",
            "\n",
            "[%] Downloading Image #3 from http://1.bp.blogspot.com/-LFMp5f3P_0o/T_O9BXXkxMI/AAAAAAAAAJI/sjRXzm78yX8/s1600/ASUS+Zenbook+Prime+UX31A+13.3-Inch+Ultrabook+3.jpg\n",
            "[%] File Downloaded !\n",
            "\n",
            "[%] Downloading Image #4 from https://www.windowscentral.com/sites/wpcentral.com/files/styles/larger/public/field/image/2016/01/Book-9-15inch-press1.png?itok=SFS3LB-i\n",
            "[%] File Downloaded !\n",
            "\n",
            "[%] Downloading Image #5 from http://greatestten.com/wp-content/uploads/2013/03/Top-10-Best-Ultrabook-Laptops.jpg\n",
            "[%] File Downloaded !\n",
            "\n",
            "[%] Downloading Image #6 from https://www.bhphotovideo.com/images/images2500x2500/toshiba_psu7fu_00y00m_kirabook_13_3_ultrabook_computer_965673.jpg\n",
            "[%] File Downloaded !\n",
            "\n",
            "[%] Downloading Image #7 from http://www.mln.com.au/img/files/5820/lenovo-thinkpad-yoga--i5-4200-ultrabook-convertible-laptop-image2.jpg\n",
            "[%] File Downloaded !\n",
            "\n",
            "[%] Downloading Image #8 from https://emkees.files.wordpress.com/2012/02/ultravook-vs-notebook.jpg\n",
            "[%] File Downloaded !\n",
            "\n",
            "[%] Downloading Image #9 from http://cdn.gadgetreview.com/wp-content/uploads/2016/02/Ultrabook-vs-Laptop-Display-1.jpg\n",
            "[%] File Downloaded !\n",
            "\n",
            "[%] Downloading Image #10 from http://images.amazon.com/images/G/01/electronics/vizio/vizio-pc12q2-tl1514-angle-left-lg.jpg\n",
            "[%] File Downloaded !\n",
            "\n",
            "[%] Downloading Image #11 from https://upload.wikimedia.org/wikipedia/commons/thumb/5/53/Asus_x21_ultrabook.jpg/1200px-Asus_x21_ultrabook.jpg\n",
            "[%] File Downloaded !\n",
            "\n",
            "[%] Downloading Image #12 from https://ae01.alicdn.com/kf/HTB1dp8iXOnrK1Rjy1Xcq6yeDVXaE/Low-Price-Laptop-New-14-inch-Ultrabook-Notebook-Computer-Intel-Cherry-Trail-X5-Z8350-Quad-core.jpg\n",
            "[%] File Downloaded !\n",
            "\n",
            "[%] Downloading Image #13 from https://cdn.ecoustics.com/db0/wblob/17BA35E873D594/C1/AB8B/nAy-CzCT1aCT3-n-RwMlj4bYzuM8ZcdFozcb-ylPTTU/692632-610x427.jpg\n",
            "[%] File Downloaded !\n",
            "\n",
            "[%] Downloading Image #14 from https://cdn.mos.cms.futurecdn.net/a84a3c0babd54f895403c337b74c5b91-1200-80.jpg\n",
            "[%] File Downloaded !\n",
            "\n",
            "[%] Downloading Image #15 from https://www.blairtg.com/media/catalog/product/cache/1/thumbnail/9df78eab33525d08d6e5fb8d27136e95/l/a/lap-hp-folio13-l_f.jpg\n",
            "[%] File Downloaded !\n",
            "\n",
            "[%] Downloading Image #16 from https://cdn.chv.me/images/JF3uowNK.jpg\n",
            "[%] File Downloaded !\n",
            "\n",
            "[%] Downloading Image #17 from http://images.amazon.com/images/G/01/electronics/samsung/samsung-12q2bts-series9-15-frontangle-lg.jpg\n",
            "[%] File Downloaded !\n",
            "\n",
            "[%] Downloading Image #18 from http://www.extremetech.com/wp-content/uploads/2012/01/lenovo-u410-ultrabook.jpg\n",
            "[%] File Downloaded !\n",
            "\n",
            "[%] Downloading Image #19 from http://zdnet3.cbsistatic.com/hub/i/2016/03/06/1a97a6fb-98fb-4dc6-b999-6931cebf0e14/44f2394653f89541d7f0271fdec3500e/samsung-notebook-9-laptop-ultrabook.jpg\n",
            "[%] File Downloaded !\n",
            "\n",
            "[%] Downloading Image #20 from http://2.bp.blogspot.com/-GfEIMNt9Cgk/T27Vp7N53yI/AAAAAAAAH7k/5TaS4gISIGk/s1600/Dell-XPS-13-Ultrabook.jpg\n",
            "[%] File Downloaded !\n",
            "\n",
            "[%] Downloading Image #21 from https://www.ultrabookreview.com/wp-content/uploads/2011/11/Ultrabooks1.jpg\n",
            "[%] File Downloaded !\n",
            "\n",
            "[%] Downloading Image #22 from https://images.techhive.com/images/article/2015/02/ux305_black-front-open135-100569160-orig.jpg\n",
            "[%] File Downloaded !\n",
            "\n",
            "[%] Downloading Image #23 from http://3.bp.blogspot.com/-F4n1DX38i5g/T2OrDPYGlzI/AAAAAAAAAv0/ZnLykAihiVg/s1600/frontfeaturephoto.JPG\n",
            "[%] File Downloaded !\n",
            "\n",
            "[%] Downloading Image #24 from https://i.ytimg.com/vi/B8VfDfyx3oM/maxresdefault.jpg\n",
            "[%] File Downloaded !\n",
            "\n",
            "[%] Downloading Image #25 from http://image4.geekbuying.com/ggo_pic/2017-01-17/2017011709502813r2wiz1.jpg\n",
            "[%] File Downloaded !\n",
            "\n",
            "[%] Downloading Image #26 from http://2.bp.blogspot.com/-135euVgbIPI/UbYczr_RKbI/AAAAAAAAAdc/fqj5LqTUOYg/s1600/Intel+Ultrabook1.jpg\n",
            "[%] File Downloaded !\n",
            "\n",
            "[%] Downloading Image #27 from https://trickideas.com/wp-content/uploads/2017/09/laptop-vs-notebook-vs-ultrabook-kFAV.png\n",
            "[%] File Downloaded !\n",
            "\n",
            "[%] Downloading Image #28 from https://ae01.alicdn.com/kf/HTB1oiJNhHsTMeJjy1zeq6AOCVXa6/14inch-ultrabook-laptop-Windows-10-notebook-computer-10000mAh-battery-Intl-Atom-X5-Z8350-2GB-32GB-EMMC.jpg\n",
            "[%] File Downloaded !\n",
            "\n",
            "[%] Downloading Image #29 from http://4.bp.blogspot.com/-zRs4UHfH84c/T2CYFvQeyXI/AAAAAAAAH2U/xmmnoawBmjM/s1600/samsung-series-5-ultrabook-front.jpg\n",
            "[%] File Downloaded !\n",
            "\n",
            "[%] Downloading Image #30 from http://ritchiesroom.com/wp-content/uploads/2012/01/Samsung-Series-5b-1024x575.png\n",
            "[%] File Downloaded !\n",
            "\n"
          ],
          "name": "stdout"
        }
      ]
    },
    {
      "cell_type": "code",
      "metadata": {
        "id": "M8_zjBJdOpOa",
        "colab_type": "code",
        "colab": {}
      },
      "source": [
        "import os\n",
        "import numpy as np\n",
        "import pandas as pd\n",
        "import matplotlib.pyplot as plt\n",
        "from skimage.io import imread\n",
        "from skimage.transform import resize \n",
        "from sklearn.model_selection import train_test_split\n",
        "from sklearn.model_selection import GridSearchCV\n",
        "from sklearn.neighbors import KNeighborsClassifier\n",
        "from sklearn.metrics import accuracy_score,confusion_matrix,classification_report"
      ],
      "execution_count": null,
      "outputs": []
    },
    {
      "cell_type": "code",
      "metadata": {
        "id": "hjpFm8n8OyfE",
        "colab_type": "code",
        "colab": {}
      },
      "source": [
        "# Reshaping and flattening of data\n",
        "out_pic = []\n",
        "flat_pic = []\n",
        "pic = []\n",
        "path = '/content/drive/My Drive/Internship August 2020/Minor project/pictures/pictures/'\n",
        "for dirpath, dirnames, filenames in os.walk(path):\n",
        "  for files in filenames:\n",
        "    dis = dirpath.split('/')[-1]\n",
        "    out_pic.append(dis)\n",
        "    img = imread(f'{path}{dis}/{files}')\n",
        "    re_pic = resize(img,(100,100,3))\n",
        "    flat_pic.append(re_pic.flatten())\n",
        "    pic.append(re_pic)\n",
        "flat_pic = np.array(flat_pic)\n",
        "out_pic = np.array(out_pic)\n",
        "pic= np.array(pic)\n"
      ],
      "execution_count": null,
      "outputs": []
    },
    {
      "cell_type": "code",
      "metadata": {
        "id": "qV6mb5ZJPNEz",
        "colab_type": "code",
        "colab": {
          "base_uri": "https://localhost:8080/",
          "height": 144
        },
        "outputId": "b9d62fd7-b6a4-4b1c-a700-70da49d92ead"
      },
      "source": [
        "print(flat_pic)"
      ],
      "execution_count": null,
      "outputs": [
        {
          "output_type": "stream",
          "text": [
            "[[0.50588235 0.47843137 0.47058824 ... 0.83137255 0.8627451  0.86666667]\n",
            " [1.         1.         1.         ... 0.14117647 0.14117647 0.14117647]\n",
            " [0.         0.         0.         ... 0.         0.         0.        ]\n",
            " ...\n",
            " [1.         1.         1.         ... 1.         1.         1.        ]\n",
            " [0.99607843 0.99607843 0.99607843 ... 0.99607843 0.99607843 0.99607843]\n",
            " [0.76078431 0.76078431 0.95359477 ... 0.74843137 0.68235294 0.93529412]]\n"
          ],
          "name": "stdout"
        }
      ]
    },
    {
      "cell_type": "code",
      "metadata": {
        "id": "LShZgU3aQNgj",
        "colab_type": "code",
        "colab": {
          "base_uri": "https://localhost:8080/",
          "height": 342
        },
        "outputId": "f5bf12c1-a9c5-49a5-f35d-80ba38115fb0"
      },
      "source": [
        "#Creating DataFrame\n",
        "df = pd.DataFrame(flat_pic)\n",
        "df['Output'] = out_pic\n",
        "df.head()"
      ],
      "execution_count": null,
      "outputs": [
        {
          "output_type": "execute_result",
          "data": {
            "text/html": [
              "<div>\n",
              "<style scoped>\n",
              "    .dataframe tbody tr th:only-of-type {\n",
              "        vertical-align: middle;\n",
              "    }\n",
              "\n",
              "    .dataframe tbody tr th {\n",
              "        vertical-align: top;\n",
              "    }\n",
              "\n",
              "    .dataframe thead th {\n",
              "        text-align: right;\n",
              "    }\n",
              "</style>\n",
              "<table border=\"1\" class=\"dataframe\">\n",
              "  <thead>\n",
              "    <tr style=\"text-align: right;\">\n",
              "      <th></th>\n",
              "      <th>0</th>\n",
              "      <th>1</th>\n",
              "      <th>2</th>\n",
              "      <th>3</th>\n",
              "      <th>4</th>\n",
              "      <th>5</th>\n",
              "      <th>6</th>\n",
              "      <th>7</th>\n",
              "      <th>8</th>\n",
              "      <th>9</th>\n",
              "      <th>10</th>\n",
              "      <th>11</th>\n",
              "      <th>12</th>\n",
              "      <th>13</th>\n",
              "      <th>14</th>\n",
              "      <th>15</th>\n",
              "      <th>16</th>\n",
              "      <th>17</th>\n",
              "      <th>18</th>\n",
              "      <th>19</th>\n",
              "      <th>20</th>\n",
              "      <th>21</th>\n",
              "      <th>22</th>\n",
              "      <th>23</th>\n",
              "      <th>24</th>\n",
              "      <th>25</th>\n",
              "      <th>26</th>\n",
              "      <th>27</th>\n",
              "      <th>28</th>\n",
              "      <th>29</th>\n",
              "      <th>30</th>\n",
              "      <th>31</th>\n",
              "      <th>32</th>\n",
              "      <th>33</th>\n",
              "      <th>34</th>\n",
              "      <th>35</th>\n",
              "      <th>36</th>\n",
              "      <th>37</th>\n",
              "      <th>38</th>\n",
              "      <th>39</th>\n",
              "      <th>...</th>\n",
              "      <th>29961</th>\n",
              "      <th>29962</th>\n",
              "      <th>29963</th>\n",
              "      <th>29964</th>\n",
              "      <th>29965</th>\n",
              "      <th>29966</th>\n",
              "      <th>29967</th>\n",
              "      <th>29968</th>\n",
              "      <th>29969</th>\n",
              "      <th>29970</th>\n",
              "      <th>29971</th>\n",
              "      <th>29972</th>\n",
              "      <th>29973</th>\n",
              "      <th>29974</th>\n",
              "      <th>29975</th>\n",
              "      <th>29976</th>\n",
              "      <th>29977</th>\n",
              "      <th>29978</th>\n",
              "      <th>29979</th>\n",
              "      <th>29980</th>\n",
              "      <th>29981</th>\n",
              "      <th>29982</th>\n",
              "      <th>29983</th>\n",
              "      <th>29984</th>\n",
              "      <th>29985</th>\n",
              "      <th>29986</th>\n",
              "      <th>29987</th>\n",
              "      <th>29988</th>\n",
              "      <th>29989</th>\n",
              "      <th>29990</th>\n",
              "      <th>29991</th>\n",
              "      <th>29992</th>\n",
              "      <th>29993</th>\n",
              "      <th>29994</th>\n",
              "      <th>29995</th>\n",
              "      <th>29996</th>\n",
              "      <th>29997</th>\n",
              "      <th>29998</th>\n",
              "      <th>29999</th>\n",
              "      <th>Output</th>\n",
              "    </tr>\n",
              "  </thead>\n",
              "  <tbody>\n",
              "    <tr>\n",
              "      <th>0</th>\n",
              "      <td>0.505882</td>\n",
              "      <td>0.478431</td>\n",
              "      <td>0.470588</td>\n",
              "      <td>0.513725</td>\n",
              "      <td>0.492157</td>\n",
              "      <td>0.478431</td>\n",
              "      <td>0.513725</td>\n",
              "      <td>0.486275</td>\n",
              "      <td>0.470588</td>\n",
              "      <td>0.521569</td>\n",
              "      <td>0.490196</td>\n",
              "      <td>0.478431</td>\n",
              "      <td>0.537255</td>\n",
              "      <td>0.503922</td>\n",
              "      <td>0.490196</td>\n",
              "      <td>0.545098</td>\n",
              "      <td>0.521569</td>\n",
              "      <td>0.505882</td>\n",
              "      <td>0.556863</td>\n",
              "      <td>0.537255</td>\n",
              "      <td>0.527451</td>\n",
              "      <td>0.560784</td>\n",
              "      <td>0.537255</td>\n",
              "      <td>0.523529</td>\n",
              "      <td>0.503922</td>\n",
              "      <td>0.472549</td>\n",
              "      <td>0.449020</td>\n",
              "      <td>0.513725</td>\n",
              "      <td>0.484314</td>\n",
              "      <td>0.462745</td>\n",
              "      <td>0.517647</td>\n",
              "      <td>0.490196</td>\n",
              "      <td>0.466667</td>\n",
              "      <td>0.519608</td>\n",
              "      <td>0.494118</td>\n",
              "      <td>0.468627</td>\n",
              "      <td>0.533333</td>\n",
              "      <td>0.511765</td>\n",
              "      <td>0.488235</td>\n",
              "      <td>0.556863</td>\n",
              "      <td>...</td>\n",
              "      <td>0.882353</td>\n",
              "      <td>0.917647</td>\n",
              "      <td>0.905882</td>\n",
              "      <td>0.882353</td>\n",
              "      <td>0.917647</td>\n",
              "      <td>0.909804</td>\n",
              "      <td>0.878431</td>\n",
              "      <td>0.913725</td>\n",
              "      <td>0.905882</td>\n",
              "      <td>0.878431</td>\n",
              "      <td>0.913725</td>\n",
              "      <td>0.905882</td>\n",
              "      <td>0.878431</td>\n",
              "      <td>0.913725</td>\n",
              "      <td>0.905882</td>\n",
              "      <td>0.882353</td>\n",
              "      <td>0.909804</td>\n",
              "      <td>0.909804</td>\n",
              "      <td>0.874510</td>\n",
              "      <td>0.909804</td>\n",
              "      <td>0.905882</td>\n",
              "      <td>0.866667</td>\n",
              "      <td>0.901961</td>\n",
              "      <td>0.898039</td>\n",
              "      <td>0.858824</td>\n",
              "      <td>0.898039</td>\n",
              "      <td>0.894118</td>\n",
              "      <td>0.854902</td>\n",
              "      <td>0.894118</td>\n",
              "      <td>0.890196</td>\n",
              "      <td>0.847059</td>\n",
              "      <td>0.886275</td>\n",
              "      <td>0.884314</td>\n",
              "      <td>0.835294</td>\n",
              "      <td>0.874510</td>\n",
              "      <td>0.874510</td>\n",
              "      <td>0.831373</td>\n",
              "      <td>0.862745</td>\n",
              "      <td>0.866667</td>\n",
              "      <td>Smart Phones</td>\n",
              "    </tr>\n",
              "    <tr>\n",
              "      <th>1</th>\n",
              "      <td>1.000000</td>\n",
              "      <td>1.000000</td>\n",
              "      <td>1.000000</td>\n",
              "      <td>1.000000</td>\n",
              "      <td>1.000000</td>\n",
              "      <td>1.000000</td>\n",
              "      <td>1.000000</td>\n",
              "      <td>1.000000</td>\n",
              "      <td>1.000000</td>\n",
              "      <td>1.000000</td>\n",
              "      <td>1.000000</td>\n",
              "      <td>1.000000</td>\n",
              "      <td>1.000000</td>\n",
              "      <td>1.000000</td>\n",
              "      <td>1.000000</td>\n",
              "      <td>1.000000</td>\n",
              "      <td>1.000000</td>\n",
              "      <td>1.000000</td>\n",
              "      <td>1.000000</td>\n",
              "      <td>1.000000</td>\n",
              "      <td>1.000000</td>\n",
              "      <td>1.000000</td>\n",
              "      <td>1.000000</td>\n",
              "      <td>1.000000</td>\n",
              "      <td>1.000000</td>\n",
              "      <td>1.000000</td>\n",
              "      <td>1.000000</td>\n",
              "      <td>1.000000</td>\n",
              "      <td>1.000000</td>\n",
              "      <td>1.000000</td>\n",
              "      <td>1.000000</td>\n",
              "      <td>1.000000</td>\n",
              "      <td>1.000000</td>\n",
              "      <td>1.000000</td>\n",
              "      <td>1.000000</td>\n",
              "      <td>1.000000</td>\n",
              "      <td>1.000000</td>\n",
              "      <td>1.000000</td>\n",
              "      <td>1.000000</td>\n",
              "      <td>1.000000</td>\n",
              "      <td>...</td>\n",
              "      <td>0.996078</td>\n",
              "      <td>0.996078</td>\n",
              "      <td>0.996078</td>\n",
              "      <td>0.969804</td>\n",
              "      <td>0.969804</td>\n",
              "      <td>0.969804</td>\n",
              "      <td>0.703882</td>\n",
              "      <td>0.703882</td>\n",
              "      <td>0.703882</td>\n",
              "      <td>0.232510</td>\n",
              "      <td>0.232510</td>\n",
              "      <td>0.232510</td>\n",
              "      <td>0.128353</td>\n",
              "      <td>0.128353</td>\n",
              "      <td>0.128353</td>\n",
              "      <td>0.145098</td>\n",
              "      <td>0.145098</td>\n",
              "      <td>0.145098</td>\n",
              "      <td>0.145098</td>\n",
              "      <td>0.145098</td>\n",
              "      <td>0.145098</td>\n",
              "      <td>0.145098</td>\n",
              "      <td>0.145098</td>\n",
              "      <td>0.145098</td>\n",
              "      <td>0.141176</td>\n",
              "      <td>0.141176</td>\n",
              "      <td>0.141176</td>\n",
              "      <td>0.141176</td>\n",
              "      <td>0.141176</td>\n",
              "      <td>0.141176</td>\n",
              "      <td>0.141176</td>\n",
              "      <td>0.141176</td>\n",
              "      <td>0.141176</td>\n",
              "      <td>0.141176</td>\n",
              "      <td>0.141176</td>\n",
              "      <td>0.141176</td>\n",
              "      <td>0.141176</td>\n",
              "      <td>0.141176</td>\n",
              "      <td>0.141176</td>\n",
              "      <td>Smart Phones</td>\n",
              "    </tr>\n",
              "    <tr>\n",
              "      <th>2</th>\n",
              "      <td>0.000000</td>\n",
              "      <td>0.000000</td>\n",
              "      <td>0.000000</td>\n",
              "      <td>0.000000</td>\n",
              "      <td>0.000000</td>\n",
              "      <td>0.000000</td>\n",
              "      <td>0.000000</td>\n",
              "      <td>0.000000</td>\n",
              "      <td>0.000000</td>\n",
              "      <td>0.000000</td>\n",
              "      <td>0.000000</td>\n",
              "      <td>0.000000</td>\n",
              "      <td>0.000000</td>\n",
              "      <td>0.000000</td>\n",
              "      <td>0.000000</td>\n",
              "      <td>0.000000</td>\n",
              "      <td>0.000000</td>\n",
              "      <td>0.000000</td>\n",
              "      <td>0.000000</td>\n",
              "      <td>0.000000</td>\n",
              "      <td>0.000000</td>\n",
              "      <td>0.000000</td>\n",
              "      <td>0.000000</td>\n",
              "      <td>0.000000</td>\n",
              "      <td>0.000000</td>\n",
              "      <td>0.000000</td>\n",
              "      <td>0.000000</td>\n",
              "      <td>0.000000</td>\n",
              "      <td>0.000000</td>\n",
              "      <td>0.000000</td>\n",
              "      <td>0.000000</td>\n",
              "      <td>0.000000</td>\n",
              "      <td>0.000000</td>\n",
              "      <td>0.000000</td>\n",
              "      <td>0.000000</td>\n",
              "      <td>0.000000</td>\n",
              "      <td>0.000000</td>\n",
              "      <td>0.000000</td>\n",
              "      <td>0.000000</td>\n",
              "      <td>0.000000</td>\n",
              "      <td>...</td>\n",
              "      <td>0.000000</td>\n",
              "      <td>0.000000</td>\n",
              "      <td>0.011765</td>\n",
              "      <td>0.000000</td>\n",
              "      <td>0.000000</td>\n",
              "      <td>0.007843</td>\n",
              "      <td>0.000000</td>\n",
              "      <td>0.000000</td>\n",
              "      <td>0.007843</td>\n",
              "      <td>0.000000</td>\n",
              "      <td>0.000000</td>\n",
              "      <td>0.005882</td>\n",
              "      <td>0.000000</td>\n",
              "      <td>0.000000</td>\n",
              "      <td>0.003922</td>\n",
              "      <td>0.000000</td>\n",
              "      <td>0.000000</td>\n",
              "      <td>0.007843</td>\n",
              "      <td>0.000000</td>\n",
              "      <td>0.000000</td>\n",
              "      <td>0.015686</td>\n",
              "      <td>0.000000</td>\n",
              "      <td>0.000000</td>\n",
              "      <td>0.015686</td>\n",
              "      <td>0.000000</td>\n",
              "      <td>0.000000</td>\n",
              "      <td>0.011765</td>\n",
              "      <td>0.000000</td>\n",
              "      <td>0.000000</td>\n",
              "      <td>0.003922</td>\n",
              "      <td>0.000000</td>\n",
              "      <td>0.000000</td>\n",
              "      <td>0.003922</td>\n",
              "      <td>0.000000</td>\n",
              "      <td>0.000000</td>\n",
              "      <td>0.003922</td>\n",
              "      <td>0.000000</td>\n",
              "      <td>0.000000</td>\n",
              "      <td>0.000000</td>\n",
              "      <td>Smart Phones</td>\n",
              "    </tr>\n",
              "    <tr>\n",
              "      <th>3</th>\n",
              "      <td>0.996078</td>\n",
              "      <td>0.996078</td>\n",
              "      <td>0.996078</td>\n",
              "      <td>0.996078</td>\n",
              "      <td>0.996078</td>\n",
              "      <td>0.996078</td>\n",
              "      <td>0.996078</td>\n",
              "      <td>0.996078</td>\n",
              "      <td>0.996078</td>\n",
              "      <td>0.996078</td>\n",
              "      <td>0.996078</td>\n",
              "      <td>0.996078</td>\n",
              "      <td>0.996078</td>\n",
              "      <td>0.996078</td>\n",
              "      <td>0.996078</td>\n",
              "      <td>0.996078</td>\n",
              "      <td>0.996078</td>\n",
              "      <td>0.996078</td>\n",
              "      <td>0.996078</td>\n",
              "      <td>0.996078</td>\n",
              "      <td>0.996078</td>\n",
              "      <td>0.996078</td>\n",
              "      <td>0.996078</td>\n",
              "      <td>0.996078</td>\n",
              "      <td>0.996078</td>\n",
              "      <td>0.996078</td>\n",
              "      <td>0.996078</td>\n",
              "      <td>0.996078</td>\n",
              "      <td>0.996078</td>\n",
              "      <td>0.996078</td>\n",
              "      <td>0.996078</td>\n",
              "      <td>0.996078</td>\n",
              "      <td>0.996078</td>\n",
              "      <td>0.996078</td>\n",
              "      <td>0.996078</td>\n",
              "      <td>0.996078</td>\n",
              "      <td>0.996078</td>\n",
              "      <td>0.996078</td>\n",
              "      <td>0.996078</td>\n",
              "      <td>0.996078</td>\n",
              "      <td>...</td>\n",
              "      <td>0.883824</td>\n",
              "      <td>0.883824</td>\n",
              "      <td>0.883824</td>\n",
              "      <td>0.890196</td>\n",
              "      <td>0.890196</td>\n",
              "      <td>0.890196</td>\n",
              "      <td>0.896078</td>\n",
              "      <td>0.896078</td>\n",
              "      <td>0.896078</td>\n",
              "      <td>0.900000</td>\n",
              "      <td>0.900000</td>\n",
              "      <td>0.900000</td>\n",
              "      <td>0.905882</td>\n",
              "      <td>0.905882</td>\n",
              "      <td>0.905882</td>\n",
              "      <td>0.911765</td>\n",
              "      <td>0.911765</td>\n",
              "      <td>0.911765</td>\n",
              "      <td>0.919039</td>\n",
              "      <td>0.919039</td>\n",
              "      <td>0.919039</td>\n",
              "      <td>0.936020</td>\n",
              "      <td>0.936020</td>\n",
              "      <td>0.936020</td>\n",
              "      <td>0.986333</td>\n",
              "      <td>0.986333</td>\n",
              "      <td>0.986333</td>\n",
              "      <td>0.996078</td>\n",
              "      <td>0.996078</td>\n",
              "      <td>0.996078</td>\n",
              "      <td>0.996078</td>\n",
              "      <td>0.996078</td>\n",
              "      <td>0.996078</td>\n",
              "      <td>0.996078</td>\n",
              "      <td>0.996078</td>\n",
              "      <td>0.996078</td>\n",
              "      <td>0.996078</td>\n",
              "      <td>0.996078</td>\n",
              "      <td>0.996078</td>\n",
              "      <td>Smart Phones</td>\n",
              "    </tr>\n",
              "    <tr>\n",
              "      <th>4</th>\n",
              "      <td>0.968627</td>\n",
              "      <td>0.968627</td>\n",
              "      <td>0.968627</td>\n",
              "      <td>0.968627</td>\n",
              "      <td>0.968627</td>\n",
              "      <td>0.968627</td>\n",
              "      <td>0.968627</td>\n",
              "      <td>0.968627</td>\n",
              "      <td>0.968627</td>\n",
              "      <td>0.968627</td>\n",
              "      <td>0.968627</td>\n",
              "      <td>0.968627</td>\n",
              "      <td>0.968627</td>\n",
              "      <td>0.968627</td>\n",
              "      <td>0.968627</td>\n",
              "      <td>0.968627</td>\n",
              "      <td>0.968627</td>\n",
              "      <td>0.968627</td>\n",
              "      <td>0.968627</td>\n",
              "      <td>0.968627</td>\n",
              "      <td>0.968627</td>\n",
              "      <td>0.968627</td>\n",
              "      <td>0.968627</td>\n",
              "      <td>0.968627</td>\n",
              "      <td>0.968627</td>\n",
              "      <td>0.968627</td>\n",
              "      <td>0.968627</td>\n",
              "      <td>0.968627</td>\n",
              "      <td>0.968627</td>\n",
              "      <td>0.968627</td>\n",
              "      <td>0.968627</td>\n",
              "      <td>0.968627</td>\n",
              "      <td>0.968627</td>\n",
              "      <td>0.968627</td>\n",
              "      <td>0.968627</td>\n",
              "      <td>0.968627</td>\n",
              "      <td>0.968627</td>\n",
              "      <td>0.968627</td>\n",
              "      <td>0.968627</td>\n",
              "      <td>0.968627</td>\n",
              "      <td>...</td>\n",
              "      <td>0.968627</td>\n",
              "      <td>0.968627</td>\n",
              "      <td>0.968627</td>\n",
              "      <td>0.968627</td>\n",
              "      <td>0.968627</td>\n",
              "      <td>0.968627</td>\n",
              "      <td>0.968627</td>\n",
              "      <td>0.968627</td>\n",
              "      <td>0.968627</td>\n",
              "      <td>0.968627</td>\n",
              "      <td>0.968627</td>\n",
              "      <td>0.968627</td>\n",
              "      <td>0.968627</td>\n",
              "      <td>0.968627</td>\n",
              "      <td>0.968627</td>\n",
              "      <td>0.968627</td>\n",
              "      <td>0.968627</td>\n",
              "      <td>0.968627</td>\n",
              "      <td>0.968627</td>\n",
              "      <td>0.968627</td>\n",
              "      <td>0.968627</td>\n",
              "      <td>0.968627</td>\n",
              "      <td>0.968627</td>\n",
              "      <td>0.968627</td>\n",
              "      <td>0.968627</td>\n",
              "      <td>0.968627</td>\n",
              "      <td>0.968627</td>\n",
              "      <td>0.968627</td>\n",
              "      <td>0.968627</td>\n",
              "      <td>0.968627</td>\n",
              "      <td>0.968627</td>\n",
              "      <td>0.968627</td>\n",
              "      <td>0.968627</td>\n",
              "      <td>0.968627</td>\n",
              "      <td>0.968627</td>\n",
              "      <td>0.968627</td>\n",
              "      <td>0.968627</td>\n",
              "      <td>0.968627</td>\n",
              "      <td>0.968627</td>\n",
              "      <td>Smart Phones</td>\n",
              "    </tr>\n",
              "  </tbody>\n",
              "</table>\n",
              "<p>5 rows × 30001 columns</p>\n",
              "</div>"
            ],
            "text/plain": [
              "          0         1         2  ...     29998     29999        Output\n",
              "0  0.505882  0.478431  0.470588  ...  0.862745  0.866667  Smart Phones\n",
              "1  1.000000  1.000000  1.000000  ...  0.141176  0.141176  Smart Phones\n",
              "2  0.000000  0.000000  0.000000  ...  0.000000  0.000000  Smart Phones\n",
              "3  0.996078  0.996078  0.996078  ...  0.996078  0.996078  Smart Phones\n",
              "4  0.968627  0.968627  0.968627  ...  0.968627  0.968627  Smart Phones\n",
              "\n",
              "[5 rows x 30001 columns]"
            ]
          },
          "metadata": {
            "tags": []
          },
          "execution_count": 12
        }
      ]
    },
    {
      "cell_type": "code",
      "metadata": {
        "id": "t6y3KrccQRtA",
        "colab_type": "code",
        "colab": {
          "base_uri": "https://localhost:8080/",
          "height": 72
        },
        "outputId": "8d0ac24c-721e-4fb5-ab8f-c256211f8bcb"
      },
      "source": [
        "\n",
        "df['Output'].value_counts()"
      ],
      "execution_count": null,
      "outputs": [
        {
          "output_type": "execute_result",
          "data": {
            "text/plain": [
              "Smart Phones         30\n",
              "Ultrabook Laptops    30\n",
              "Name: Output, dtype: int64"
            ]
          },
          "metadata": {
            "tags": []
          },
          "execution_count": 13
        }
      ]
    },
    {
      "cell_type": "code",
      "metadata": {
        "id": "Gqv6Pt4_Qe2s",
        "colab_type": "code",
        "colab": {
          "base_uri": "https://localhost:8080/",
          "height": 35
        },
        "outputId": "299e3e1f-0ffd-4023-ac88-948c80a75722"
      },
      "source": [
        "\n",
        "df['Output'].nunique()"
      ],
      "execution_count": null,
      "outputs": [
        {
          "output_type": "execute_result",
          "data": {
            "text/plain": [
              "2"
            ]
          },
          "metadata": {
            "tags": []
          },
          "execution_count": 14
        }
      ]
    },
    {
      "cell_type": "code",
      "metadata": {
        "id": "n86iITqrQksj",
        "colab_type": "code",
        "colab": {}
      },
      "source": [
        "# Training and testing data.\n",
        "x = df.drop('Output',axis=1).values\n",
        "y = df['Output'].values"
      ],
      "execution_count": null,
      "outputs": []
    },
    {
      "cell_type": "code",
      "metadata": {
        "id": "1ns5Lp9_Qox6",
        "colab_type": "code",
        "colab": {}
      },
      "source": [
        "x_train,x_test,y_train,y_test = train_test_split(x,y,random_state = 0)"
      ],
      "execution_count": null,
      "outputs": []
    },
    {
      "cell_type": "code",
      "metadata": {
        "id": "OToV3sgJQskM",
        "colab_type": "code",
        "colab": {
          "base_uri": "https://localhost:8080/",
          "height": 235
        },
        "outputId": "ffded2f6-8f08-41f6-f231-02785b20c639"
      },
      "source": [
        "# Using gridsearch_cv for best param.\n",
        "param= {'n_neighbors':np.arange(1,48)}\n",
        "model = KNeighborsClassifier()\n",
        "model_cv = GridSearchCV(model,param)\n",
        "model_cv.fit(x,y)"
      ],
      "execution_count": null,
      "outputs": [
        {
          "output_type": "execute_result",
          "data": {
            "text/plain": [
              "GridSearchCV(cv=None, error_score=nan,\n",
              "             estimator=KNeighborsClassifier(algorithm='auto', leaf_size=30,\n",
              "                                            metric='minkowski',\n",
              "                                            metric_params=None, n_jobs=None,\n",
              "                                            n_neighbors=5, p=2,\n",
              "                                            weights='uniform'),\n",
              "             iid='deprecated', n_jobs=None,\n",
              "             param_grid={'n_neighbors': array([ 1,  2,  3,  4,  5,  6,  7,  8,  9, 10, 11, 12, 13, 14, 15, 16, 17,\n",
              "       18, 19, 20, 21, 22, 23, 24, 25, 26, 27, 28, 29, 30, 31, 32, 33, 34,\n",
              "       35, 36, 37, 38, 39, 40, 41, 42, 43, 44, 45, 46, 47])},\n",
              "             pre_dispatch='2*n_jobs', refit=True, return_train_score=False,\n",
              "             scoring=None, verbose=0)"
            ]
          },
          "metadata": {
            "tags": []
          },
          "execution_count": 17
        }
      ]
    },
    {
      "cell_type": "code",
      "metadata": {
        "id": "5w6y-HkmQu8G",
        "colab_type": "code",
        "colab": {
          "base_uri": "https://localhost:8080/",
          "height": 35
        },
        "outputId": "737287db-3db5-43f1-cd1e-eb946ce4bbac"
      },
      "source": [
        "model_cv.best_params_"
      ],
      "execution_count": null,
      "outputs": [
        {
          "output_type": "execute_result",
          "data": {
            "text/plain": [
              "{'n_neighbors': 8}"
            ]
          },
          "metadata": {
            "tags": []
          },
          "execution_count": 18
        }
      ]
    },
    {
      "cell_type": "code",
      "metadata": {
        "id": "yaM4yziKQ8OL",
        "colab_type": "code",
        "colab": {
          "base_uri": "https://localhost:8080/",
          "height": 72
        },
        "outputId": "2ccdafdc-31a3-4bee-d9e9-ab64720886cd"
      },
      "source": [
        "model = KNeighborsClassifier(n_neighbors=8)\n",
        "model.fit(x_train,y_train)"
      ],
      "execution_count": null,
      "outputs": [
        {
          "output_type": "execute_result",
          "data": {
            "text/plain": [
              "KNeighborsClassifier(algorithm='auto', leaf_size=30, metric='minkowski',\n",
              "                     metric_params=None, n_jobs=None, n_neighbors=8, p=2,\n",
              "                     weights='uniform')"
            ]
          },
          "metadata": {
            "tags": []
          },
          "execution_count": 19
        }
      ]
    },
    {
      "cell_type": "code",
      "metadata": {
        "id": "8h9zTWjiRCoi",
        "colab_type": "code",
        "colab": {
          "base_uri": "https://localhost:8080/",
          "height": 126
        },
        "outputId": "ce238cec-1bb1-4370-b17f-9357347fb428"
      },
      "source": [
        "y_pred= model.predict(x_test)\n",
        "y_pred"
      ],
      "execution_count": null,
      "outputs": [
        {
          "output_type": "execute_result",
          "data": {
            "text/plain": [
              "array(['Smart Phones', 'Ultrabook Laptops', 'Ultrabook Laptops',\n",
              "       'Smart Phones', 'Ultrabook Laptops', 'Smart Phones',\n",
              "       'Ultrabook Laptops', 'Ultrabook Laptops', 'Ultrabook Laptops',\n",
              "       'Smart Phones', 'Ultrabook Laptops', 'Smart Phones',\n",
              "       'Ultrabook Laptops', 'Smart Phones', 'Ultrabook Laptops'],\n",
              "      dtype=object)"
            ]
          },
          "metadata": {
            "tags": []
          },
          "execution_count": 20
        }
      ]
    },
    {
      "cell_type": "code",
      "metadata": {
        "id": "PR7CQoRbRFj3",
        "colab_type": "code",
        "colab": {
          "base_uri": "https://localhost:8080/",
          "height": 126
        },
        "outputId": "9fb6f77a-b44f-4ea7-950b-7a3f7e3d54a9"
      },
      "source": [
        "y_test"
      ],
      "execution_count": null,
      "outputs": [
        {
          "output_type": "execute_result",
          "data": {
            "text/plain": [
              "array(['Smart Phones', 'Ultrabook Laptops', 'Ultrabook Laptops',\n",
              "       'Smart Phones', 'Smart Phones', 'Smart Phones',\n",
              "       'Ultrabook Laptops', 'Ultrabook Laptops', 'Ultrabook Laptops',\n",
              "       'Smart Phones', 'Smart Phones', 'Smart Phones',\n",
              "       'Ultrabook Laptops', 'Ultrabook Laptops', 'Ultrabook Laptops'],\n",
              "      dtype=object)"
            ]
          },
          "metadata": {
            "tags": []
          },
          "execution_count": 21
        }
      ]
    },
    {
      "cell_type": "code",
      "metadata": {
        "id": "NDI0S-U6RKKe",
        "colab_type": "code",
        "colab": {
          "base_uri": "https://localhost:8080/",
          "height": 35
        },
        "outputId": "6b014b7c-8491-452f-a033-2fafc5cd2a43"
      },
      "source": [
        "# Knowing the accuracy of the model.\n",
        "accuracy_score(y_test,y_pred)"
      ],
      "execution_count": null,
      "outputs": [
        {
          "output_type": "execute_result",
          "data": {
            "text/plain": [
              "0.8"
            ]
          },
          "metadata": {
            "tags": []
          },
          "execution_count": 22
        }
      ]
    },
    {
      "cell_type": "code",
      "metadata": {
        "id": "OQ79MZSuRSPQ",
        "colab_type": "code",
        "colab": {
          "base_uri": "https://localhost:8080/",
          "height": 53
        },
        "outputId": "623ffcfb-2676-4a79-8226-939f1fd23390"
      },
      "source": [
        "confusion_matrix(y_test,y_pred)"
      ],
      "execution_count": null,
      "outputs": [
        {
          "output_type": "execute_result",
          "data": {
            "text/plain": [
              "array([[5, 2],\n",
              "       [1, 7]])"
            ]
          },
          "metadata": {
            "tags": []
          },
          "execution_count": 23
        }
      ]
    },
    {
      "cell_type": "code",
      "metadata": {
        "id": "8M3mVrsPRVFA",
        "colab_type": "code",
        "colab": {
          "base_uri": "https://localhost:8080/",
          "height": 175
        },
        "outputId": "8e65719f-5dff-4d84-bb6a-2c56b11f1947"
      },
      "source": [
        "pd.crosstab(y_test,y_pred, rownames=['Actual'], colnames=['Predicted'], margins=True)"
      ],
      "execution_count": null,
      "outputs": [
        {
          "output_type": "execute_result",
          "data": {
            "text/html": [
              "<div>\n",
              "<style scoped>\n",
              "    .dataframe tbody tr th:only-of-type {\n",
              "        vertical-align: middle;\n",
              "    }\n",
              "\n",
              "    .dataframe tbody tr th {\n",
              "        vertical-align: top;\n",
              "    }\n",
              "\n",
              "    .dataframe thead th {\n",
              "        text-align: right;\n",
              "    }\n",
              "</style>\n",
              "<table border=\"1\" class=\"dataframe\">\n",
              "  <thead>\n",
              "    <tr style=\"text-align: right;\">\n",
              "      <th>Predicted</th>\n",
              "      <th>Smart Phones</th>\n",
              "      <th>Ultrabook Laptops</th>\n",
              "      <th>All</th>\n",
              "    </tr>\n",
              "    <tr>\n",
              "      <th>Actual</th>\n",
              "      <th></th>\n",
              "      <th></th>\n",
              "      <th></th>\n",
              "    </tr>\n",
              "  </thead>\n",
              "  <tbody>\n",
              "    <tr>\n",
              "      <th>Smart Phones</th>\n",
              "      <td>5</td>\n",
              "      <td>2</td>\n",
              "      <td>7</td>\n",
              "    </tr>\n",
              "    <tr>\n",
              "      <th>Ultrabook Laptops</th>\n",
              "      <td>1</td>\n",
              "      <td>7</td>\n",
              "      <td>8</td>\n",
              "    </tr>\n",
              "    <tr>\n",
              "      <th>All</th>\n",
              "      <td>6</td>\n",
              "      <td>9</td>\n",
              "      <td>15</td>\n",
              "    </tr>\n",
              "  </tbody>\n",
              "</table>\n",
              "</div>"
            ],
            "text/plain": [
              "Predicted          Smart Phones  Ultrabook Laptops  All\n",
              "Actual                                                 \n",
              "Smart Phones                  5                  2    7\n",
              "Ultrabook Laptops             1                  7    8\n",
              "All                           6                  9   15"
            ]
          },
          "metadata": {
            "tags": []
          },
          "execution_count": 24
        }
      ]
    },
    {
      "cell_type": "code",
      "metadata": {
        "id": "Qb0poO1kRaSt",
        "colab_type": "code",
        "colab": {
          "base_uri": "https://localhost:8080/",
          "height": 181
        },
        "outputId": "f1b88f15-a73e-424f-8964-d4bae3de9991"
      },
      "source": [
        "print(classification_report(y_test,y_pred))"
      ],
      "execution_count": null,
      "outputs": [
        {
          "output_type": "stream",
          "text": [
            "                   precision    recall  f1-score   support\n",
            "\n",
            "     Smart Phones       0.83      0.71      0.77         7\n",
            "Ultrabook Laptops       0.78      0.88      0.82         8\n",
            "\n",
            "         accuracy                           0.80        15\n",
            "        macro avg       0.81      0.79      0.80        15\n",
            "     weighted avg       0.80      0.80      0.80        15\n",
            "\n"
          ],
          "name": "stdout"
        }
      ]
    },
    {
      "cell_type": "code",
      "metadata": {
        "id": "4VslEDWdRqZK",
        "colab_type": "code",
        "colab": {
          "base_uri": "https://localhost:8080/",
          "height": 287
        },
        "outputId": "a92323d3-d596-4c48-f964-379cf4ede296"
      },
      "source": [
        "#Predicting for any new image\n",
        "fl = []\n",
        "i = imread('https://cdn.ecoustics.com/db0/wblob/17BA35E873D594/C1/AB8B/nAy-CzCT1aCT3-n-RwMlj4bYzuM8ZcdFozcb-ylPTTU/692632-610x427.jpg')\n",
        "re= resize(i,(100,100,3))\n",
        "fl.append(re.flatten())\n",
        "fl = np.array(fl)\n",
        "plt.imshow(i)\n",
        "y_pred = model.predict(fl)\n",
        "y_pred\n"
      ],
      "execution_count": null,
      "outputs": [
        {
          "output_type": "execute_result",
          "data": {
            "text/plain": [
              "array(['Ultrabook Laptops'], dtype=object)"
            ]
          },
          "metadata": {
            "tags": []
          },
          "execution_count": 27
        },
        {
          "output_type": "display_data",
          "data": {
            "image/png": "[encoded data removed]",
            "text/plain": [
              "<Figure size 432x288 with 1 Axes>"
            ]
          },
          "metadata": {
            "tags": [],
            "needs_background": "light"
          }
        }
      ]
    },
    {
      "cell_type": "code",
      "metadata": {
        "id": "4Qhl5WjMR9wA",
        "colab_type": "code",
        "colab": {}
      },
      "source": [
        ""
      ],
      "execution_count": null,
      "outputs": []
    }
  ]
}